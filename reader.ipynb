{
 "metadata": {
  "language_info": {
   "codemirror_mode": {
    "name": "ipython",
    "version": 3
   },
   "file_extension": ".py",
   "mimetype": "text/x-python",
   "name": "python",
   "nbconvert_exporter": "python",
   "pygments_lexer": "ipython3",
   "version": "3.7.10"
  },
  "orig_nbformat": 2,
  "kernelspec": {
   "name": "python3",
   "display_name": "Python 3.7.10 64-bit ('k37': conda)",
   "metadata": {
    "interpreter": {
     "hash": "ce6995e5260f3d17ba777f99880eb99bb4499d971ce283740a27659aee3a2981"
    }
   }
  }
 },
 "nbformat": 4,
 "nbformat_minor": 2,
 "cells": [
  {
   "cell_type": "code",
   "execution_count": 16,
   "metadata": {
    "tags": []
   },
   "outputs": [],
   "source": [
    "import folium\n",
    "import gpxpy\n",
    "\n",
    "gpx_file = open(\"gpx_data/20210407-115732.gpx\",\"r\")\n",
    "data = gpxpy.parse(gpx_file)\n",
    "pts = data.tracks[0].segments[0].points\n",
    "\n",
    "start = [pts[0].latitude, pts[0].longitude]\n",
    "stop = [pts[-1].latitude, pts[-1].longitude]\n",
    "\n",
    "m = folium.Map(location = [pts[0].latitude, pts[0].longitude], zoom_start = 14, tiles = \"CartoDB dark_matter\")\n",
    "\n",
    "# Imrpime a rota, criando um gráfico de cores baseado na velocidade\n",
    "# Variando do verde ao vermelho, conforme aumenta a velocidade\n",
    "for index in range(len(pts)-1):\n",
    "    max_speed = max([pts[i].speed for i in range(len(pts))]) * 3.6\n",
    "    factor = int((255 // max_speed)) - 1\n",
    "    speed = int((pts[index].speed) * 3.6 ) * factor\n",
    "    color = '#{:02x}{:02x}{:02x}'.format(0 + speed, 255 - speed, 0)\n",
    "    coord = [(pts[index].latitude,pts[index].longitude),(pts[index + 1].latitude,pts[index + 1].longitude)]\n",
    "    folium.PolyLine(coord, color=color, weight=7).add_to(m)\n",
    "\n",
    "count = False\n",
    "time = 0\n",
    "stop_points = []\n",
    "time_list = []\n",
    "\n",
    "# Analisa todos os pontos de parada, e o tempo de duração em cada ponto, criando uma lista com as coordenadas\n",
    "for index in range(len(pts)):\n",
    "    \n",
    "    if pts[index].speed == 0:\n",
    "        if not count:\n",
    "            count = True\n",
    "            time += 1\n",
    "            stop_points.append((pts[index].latitude, pts[index].longitude))\n",
    "        else:\n",
    "            time +=1\n",
    "    else:\n",
    "        if count:\n",
    "            count = False\n",
    "            time_list.append(time)\n",
    "            time = 0\n",
    "\n",
    "    if index + 1 == len(pts) and count:\n",
    "        time_list.append(time)\n",
    "\n",
    "# Imprime no mapa os pontos de paradas com circulos vermelhos\n",
    "for index in range(len(stop_points)):\n",
    "    lat, lng = stop_points[index]\n",
    "    msg = '{} segundos'.format(time_list[index])\n",
    "    folium.CircleMarker(location=[lat, lng], color=\"red\", radius=15, fill=True, popup=msg).add_to(m)\n",
    "\n",
    "# Imprime os pontos de saida e chegada\n",
    "folium.Marker(start, icon=folium.Icon(color=\"green\")).add_to(m)\n",
    "folium.Marker(stop, icon=folium.Icon(color=\"red\")).add_to(m)\n",
    "     \n",
    "image = folium.Figure(width = 1640, height = 720)\n",
    "image.add_child(m)\n",
    "image.save(\"mapa.html\")\n"
   ]
  },
  {
   "cell_type": "code",
   "execution_count": null,
   "metadata": {},
   "outputs": [],
   "source": []
  }
 ]
}